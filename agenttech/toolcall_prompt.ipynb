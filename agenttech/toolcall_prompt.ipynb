{
 "cells": [
  {
   "cell_type": "code",
   "execution_count": null,
   "id": "6ef63e91",
   "metadata": {},
   "outputs": [
    {
     "data": {
      "text/plain": [
       "'<antml:function_calls>\\n<antml:invoke name=\"find_document\">\\n<antml:parameter name=\"layer\">backend</antml:parameter>\\n</antml:invoke>\\n</antml:function_calls>'"
      ]
     },
     "execution_count": 5,
     "metadata": {},
     "output_type": "execute_result"
    }
   ],
   "source": [
    "\n",
    "prompt = \"\"\"\n",
    "In this environment you have access to a set of tools you can use to answer the user's question.\n",
    "You can invoke functions by writing a \"<antml:function_calls>\" block like the following as part of your reply to the user:\n",
    "<antml:function_calls>\n",
    "<antml:invoke name=\"$FUNCTION_NAME\">\n",
    "<antml:parameter name=\"$PARAMETER_NAME\">$PARAMETER_VALUE</antml:parameter>\n",
    "...\n",
    "</antml:invoke>\n",
    "<antml:invoke name=\"$FUNCTION_NAME2\">\n",
    "...\n",
    "</antml:invoke>\n",
    "</antml:function_calls>\n",
    "\n",
    "String and scalar parameters should be specified as is, while lists and objects should use JSON format.\n",
    "\n",
    "Here are the functions available in JSONSchema format:\n",
    "<functions>\n",
    "<function>{\"description\": \"Finds the tech document based on the layer.\\n\\n    Args:\\n        layer: the layer of tech document to find only include \"frontend\", \"backend\"\", \"name\": \"find_document\", \"parameters\": {\"properties\": {\"layer\": {\"type\": \"string\"}}</function>\n",
    "</functions>\n",
    "\n",
    "{{ Please identify the nosql databases from the backend doc }}\n",
    "\n",
    "Answer the user's request using the relevant tool(s), if they are available. Check that all the required parameters for each tool call are provided or can reasonably be inferred from context. IF there are no relevant tools or there are missing values for required parameters, ask the user to supply these values; otherwise proceed with the tool calls. If the user provides a specific value for a parameter (for example provided in quotes), make sure to use that value EXACTLY. DO NOT make up values for or ask about optional parameters. Carefully analyze descriptive terms in the request as they may indicate required parameter values that should be included even if not explicitly quoted.\n",
    "\"\"\"\n",
    "\n",
    "import dotenv\n",
    "dotenv.load_dotenv()\n",
    "from langchain_google_genai import ChatGoogleGenerativeAI\n",
    "llm = ChatGoogleGenerativeAI(model=\"gemini-2.5-flash\",thinking_budget=0)\n",
    "llm.invoke(prompt).content"
   ]
  },
  {
   "cell_type": "code",
   "execution_count": 3,
   "id": "6b74e538",
   "metadata": {},
   "outputs": [
    {
     "data": {
      "text/plain": [
       "0.13718598426177148"
      ]
     },
     "execution_count": 3,
     "metadata": {},
     "output_type": "execute_result"
    }
   ],
   "source": [
    "from ragas import SingleTurnSample\n",
    "from ragas.metrics import BleuScore\n",
    "\n",
    "test_data = {\n",
    "    \"user_input\": \"summarise given text\\nThe company reported an 8% rise in Q3 2024, driven by strong performance in the Asian market. Sales in this region have significantly contributed to the overall growth. Analysts attribute this success to strategic marketing and product localization. The positive trend in the Asian market is expected to continue into the next quarter.\",\n",
    "    \"response\": \"The company experienced an 8% increase in Q3 2024, largely due to effective marketing strategies and product adaptation, with expectations of continued growth in the coming quarter.\",\n",
    "    \"reference\": \"The company reported an 8% growth in Q3 2024, primarily driven by strong sales in the Asian market, attributed to strategic marketing and localized products, with continued growth anticipated in the next quarter.\"\n",
    "}\n",
    "metric = BleuScore()\n",
    "test_data = SingleTurnSample(**test_data)\n",
    "metric.single_turn_score(test_data)"
   ]
  },
  {
   "cell_type": "code",
   "execution_count": 47,
   "id": "318b4b98",
   "metadata": {},
   "outputs": [
    {
     "name": "stderr",
     "output_type": "stream",
     "text": [
      "/Users/yuliangli/projects/llmops/venv/lib/python3.11/site-packages/tqdm/auto.py:21: TqdmWarning: IProgress not found. Please update jupyter and ipywidgets. See https://ipywidgets.readthedocs.io/en/stable/user_install.html\n",
      "  from .autonotebook import tqdm as notebook_tqdm\n"
     ]
    }
   ],
   "source": [
    "import os\n",
    "from langchain_google_genai import ChatGoogleGenerativeAI\n",
    "import dotenv\n",
    "dotenv.load_dotenv()\n",
    "from ragas.llms import LangchainLLMWrapper\n",
    "evaluator_llm = LangchainLLMWrapper(ChatGoogleGenerativeAI(model=\"gemini-2.5-flash-lite\"))\n"
   ]
  },
  {
   "cell_type": "code",
   "execution_count": 48,
   "id": "385c41e3",
   "metadata": {},
   "outputs": [
    {
     "data": {
      "text/plain": [
       "1"
      ]
     },
     "execution_count": 48,
     "metadata": {},
     "output_type": "execute_result"
    }
   ],
   "source": [
    "from ragas import SingleTurnSample\n",
    "from ragas.metrics import AspectCritic\n",
    "\n",
    "test_data = {\n",
    "    \"user_input\": \"summarise given text\\nThe company reported an 8% rise in Q3 2024, driven by strong performance in the Asian market. Sales in this region have significantly contributed to the overall growth. Analysts attribute this success to strategic marketing and product localization. The positive trend in the Asian market is expected to continue into the next quarter.\",\n",
    "    \"response\": \"The company experienced an 8% increase in Q3 2024, largely due to effective marketing strategies and product adaptation, with expectations of continued growth in the coming quarter.\",\n",
    "}\n",
    "\n",
    "metric = AspectCritic(name=\"summary_accuracy\",llm=evaluator_llm, definition=\"Verify if the summary is accurate.\")\n",
    "test_data = SingleTurnSample(**test_data)\n",
    "await metric.single_turn_ascore(test_data)"
   ]
  },
  {
   "cell_type": "code",
   "execution_count": null,
   "id": "f8a8e189",
   "metadata": {},
   "outputs": [],
   "source": [
    "from ragas import SingleTurnSample\n",
    "from ragas.metrics import AspectCritic\n",
    "from ragas.metrics import (\n",
    "    faithfulness,\n",
    "    answer_relevancy,\n",
    "    answer_correctness\n",
    ")\n",
    "test_data = {\n",
    "    \"user_input\": \"summarise given text\\nThe company reported an 8% rise in Q3 2024, driven by strong performance in the Asian market. Sales in this region have significantly contributed to the overall growth. Analysts attribute this success to strategic marketing and product localization. The positive trend in the Asian market is expected to continue into the next quarter.\",\n",
    "    \"response\": \"The company experienced an 8% increase in Q3 2024, largely due to effective marketing strategies and product adaptation, with expectations of continued growth in the coming quarter.\",\n",
    "}\n",
    "\n",
    "metric = AspectCritic(name=\"summary_accuracy\",llm=evaluator_llm, definition=\"Verify if the summary is accurate.\")\n",
    "test_data = SingleTurnSample(**test_data)\n",
    "await metric.single_turn_ascore(test_data)"
   ]
  },
  {
   "cell_type": "code",
   "execution_count": 2,
   "id": "6a7360de",
   "metadata": {},
   "outputs": [],
   "source": [
    "import nest_asyncio\n",
    "import asyncio\n",
    "# 启用嵌套异步支持\n",
    "nest_asyncio.apply()"
   ]
  },
  {
   "cell_type": "code",
   "execution_count": 43,
   "id": "f0d179e0",
   "metadata": {},
   "outputs": [],
   "source": [
    "import dotenv\n",
    "dotenv.load_dotenv()\n",
    "from agent_tech_QA_MCP import graph\n",
    "from langchain_core.messages import HumanMessage,ToolMessage\n",
    "import uuid\n",
    "\n",
    "questions = [\n",
    "    \"后端文档中有哪些数据库相关的内容？\",\n",
    "    \"前端文档中，有哪些框架可以选择？\",\n",
    "    \"后端文档中的数据库，在AWS上部署有什么最佳实践？\",\n",
    "    \"Azure上有哪些功能，可以支持前端文档中的最佳实践？\"\n",
    "]\n",
    "synth = {\"questions\":questions, \"responses\":[], \"tool_trajectory\":[]}\n",
    "for q in questions:\n",
    "    thread_id = str(uuid.uuid4())\n",
    "    config = {\"configurable\": {\"thread_id\": thread_id}}\n",
    "    # Start conversation\n",
    "    input_message = HumanMessage(content=q)\n",
    "    output = await graph.ainvoke({\"messages\": [input_message]}, config) \n",
    "    synth[\"responses\"].append(output[\"messages\"][-1].content)\n",
    "    synth[\"tool_trajectory\"].append(\"[TOOLSEP]\".join([m.name for m in output[\"messages\"] if type(m)==ToolMessage]))\n",
    "\n"
   ]
  },
  {
   "cell_type": "code",
   "execution_count": 44,
   "id": "9a8a09ea",
   "metadata": {},
   "outputs": [],
   "source": [
    "import pandas as pd \n",
    "pd.DataFrame.from_dict(synth).to_csv(\"tests/data/agent_tech_QA_MCP_data.csv\")"
   ]
  },
  {
   "cell_type": "code",
   "execution_count": 45,
   "id": "843a3109",
   "metadata": {},
   "outputs": [],
   "source": [
    "import dotenv\n",
    "import pandas as pd \n",
    "synth_data = pd.read_csv(\"tests/data/agent_tech_QA_MCP_data.csv\")\n",
    "dotenv.load_dotenv()\n",
    "from agent_tech_QA_MCP import graph\n",
    "from langchain_core.messages import HumanMessage,ToolMessage\n",
    "import uuid\n",
    "questions = synth_data[\"questions\"].tolist()\n",
    "\n",
    "outputs = {\"questions\":questions, \"responses\":[], \"tool_trajectory\":[]}\n",
    "for q in questions:\n",
    "    thread_id = str(uuid.uuid4())\n",
    "    config = {\"configurable\": {\"thread_id\": thread_id}}\n",
    "    input_message = HumanMessage(content=q)\n",
    "    output = await graph.ainvoke({\"messages\": [input_message]}, config) \n",
    "    outputs[\"responses\"].append(output[\"messages\"][-1].content)\n",
    "    outputs[\"tool_trajectory\"].append(\"[TOOLSEP]\".join([m.name for m in output[\"messages\"] if type(m)==ToolMessage]))\n",
    "\n"
   ]
  },
  {
   "cell_type": "code",
   "execution_count": null,
   "id": "e8076044",
   "metadata": {},
   "outputs": [
    {
     "data": {
      "text/plain": [
       "{'questions': ['后端文档中有哪些数据库相关的内容？',\n",
       "  '前端文档中，有哪些框架可以选择？',\n",
       "  '后端文档中的数据库，在AWS上部署有什么最佳实践？',\n",
       "  'Azure上有哪些功能，可以支持前端文档中的最佳实践？'],\n",
       " 'responses': ['后端文档中数据库相关的内容主要包括：\\n\\n**数据库设计**：\\n1.  **关系型数据库**：\\n    *   规范化设计\\n    *   索引优化\\n    *   事务管理\\n2.  **NoSQL数据库**：\\n    *   文档数据库：MongoDB\\n    *   键值数据库：Redis\\n    *   图数据库：Neo4j\\n\\n**性能优化**中也提到了**数据库优化**：\\n*   查询优化\\n*   连接池\\n*   读写分离',\n",
       "  '根据前端开发最佳实践文档，前端框架有以下选择：\\n\\n*   **React**: 适合大型应用，生态系统丰富。\\n*   **Vue**: 学习曲线平缓，适合中小型项目。\\n*   **Angular**: 企业级框架，提供完整的解决方案。',\n",
       "  '在AWS上部署数据库时，可以参考以下最佳实践：\\n\\n1.  **Amazon RDS 蓝/绿部署最佳实践**: 如果您使用Amazon RDS，可以参考蓝/绿部署的最佳实践，以实现数据库更新的最小停机时间。\\n2.  **AWS Database Migration Service 最佳实践**: 如果您需要进行数据库迁移，AWS Database Migration Service 提供了一系列推荐的最佳实践。\\n3.  **迁移大型 MySQL 和 MariaDB 数据库的最佳实践**: 对于大型MySQL和MariaDB数据库迁移到AWS云，AWS Prescriptive Guidance提供了专门的最佳实践。\\n4.  **Amazon RDS 安全最佳实践**: 数据库安全至关重要，Amazon RDS提供了安全最佳实践，包括使用AWS Identity and Access Management (IAM) 控制对RDS资源和操作的访问。\\n5.  **在AWS上运行Oracle数据库的最佳实践**: 如果您使用Oracle数据库，可以参考AWS提供的白皮书，了解在AWS云环境中运行Oracle数据库的最佳实践，包括安全、存储、计算配置、管理和监控等方面。\\n\\n这些文档涵盖了从部署、迁移到安全和特定数据库类型的最佳实践。您可以根据您的具体需求，查阅相应的文档以获取更详细的信息。',\n",
       "  'Azure提供了一系列功能来支持前端文档中的最佳实践，尤其是在性能、可靠性和安全性方面。\\n\\n**针对HTML和CSS最佳实践的Azure支持：**\\n\\n*   **内容分发网络 (CDN) 和缓存：** Azure Front Door 提供了强大的 CDN 解决方案，可以在网络边缘缓存静态内容。这有助于减少源服务器的负载，缩短数据传输时间，并将内容存储在离用户更近的位置，从而提高性能和响应速度。通过启用缓存和优化查询字符串，可以最大限度地利用缓存，更快地向用户交付内容。\\n*   **文件压缩：** Azure Front Door 支持文件压缩，这有助于以最佳格式交付内容，减小有效载荷，并更快地将内容交付给用户。这对于优化前端性能，尤其是在处理大型CSS和JavaScript文件时非常有用。\\n*   **响应式设计支持：** 虽然Azure不直接提供响应式设计的CSS框架，但Azure Front Door和Azure App Service等服务可以确保您的响应式前端应用在全球范围内高效地交付和运行。\\n\\n**针对JavaScript最佳实践的Azure支持：**\\n\\n*   **模块化和性能优化：** Azure Functions 和 Azure App Service 可以托管您的前端应用程序，并支持ES6模块等现代JavaScript实践。对于性能优化，例如事件委托、避免频繁DOM操作、防抖和节流等，这些都属于前端代码层面的优化，Azure平台提供了运行这些优化代码的基础设施。\\n*   **WebSockets支持：** Azure Front Door 支持 WebSockets，可以实现实时全双工通信，而不是重复的HTTP请求或轮询。这对于需要实时交互的前端应用程序（如聊天应用或实时仪表盘）来说，是性能优化的重要手段。\\n\\n**针对通用前端最佳实践（性能、可靠性、安全）的Azure支持：**\\n\\n*   **高可用性和负载均衡：**\\n    *   **Azure Front Door：** 作为全球分布式服务，Front Door可以实现基于延迟的路由，将用户请求路由到最近的后端服务器，从而提高性能。它还可以通过健康探测来监控后端服务的健康状况，并在出现问题时将流量重定向到健康的实例，从而提高可靠性。\\n    *   **Azure Load Balancer：** 提供区域冗余部署，保护数据路径免受区域故障的影响，确保高可用性。它还可以将网络流量分配到后端池中的服务器，从而提高可用性和性能。\\n    *   **Azure Application Gateway：** 适用于需要会话粘性、TLS卸载和Web应用程序防火墙（WAF）等功能的前端应用程序。它支持端到端TLS加密，并可以在网关处进行TLS终止，减轻Web服务器的加密和解密开销。\\n*   **安全性：**\\n    *   **Web 应用程序防火墙 (WAF)：** Azure Front Door 的 WAF 可以保护您的应用程序免受各种攻击，例如SQL注入、跨站脚本等。启用托管规则可以提供广泛的保护。\\n    *   **端到端TLS加密：** Azure Front Door 建议使用端到端TLS加密，即使对于托管在Azure中的源服务器也是如此，以确保数据在传输过程中始终加密。\\n    *   **HTTP到HTTPS重定向：** Front Door可以配置为自动将HTTP请求重定向到HTTPS，确保客户端始终使用安全的连接。\\n    *   **托管TLS证书：** Front Door 可以自动管理TLS证书的颁发和轮换，减少运营成本并避免因证书过期导致的停机。\\n*   **监控和诊断：**\\n    *   **Azure Front Door 日志：** Front Door 会跟踪每个请求的详细遥测数据，通过日志可以了解解决方案的运行情况和对客户端的响应。\\n    *   **Azure App Service 诊断：** 提供特定于资源的最佳实践建议，可以帮助您了解应用程序在可用性和性能方面的当前状态。\\n\\n总而言之，Azure提供了一整套基础设施和服务，可以帮助前端开发者在部署和运行应用程序时，有效地实践高性能、高可用性和高安全性的最佳实践。'],\n",
       " 'tool_trajectory': ['read_document_with_mcp',\n",
       "  'read_document_with_mcp',\n",
       "  'read_document_with_mcp[TOOLSEP]search_documentation',\n",
       "  'read_document_with_mcp[TOOLSEP]microsoft_docs_search']}"
      ]
     },
     "execution_count": 46,
     "metadata": {},
     "output_type": "execute_result"
    }
   ],
   "source": []
  },
  {
   "cell_type": "code",
   "execution_count": null,
   "id": "d35712cd",
   "metadata": {},
   "outputs": [],
   "source": []
  }
 ],
 "metadata": {
  "kernelspec": {
   "display_name": "venv",
   "language": "python",
   "name": "python3"
  },
  "language_info": {
   "codemirror_mode": {
    "name": "ipython",
    "version": 3
   },
   "file_extension": ".py",
   "mimetype": "text/x-python",
   "name": "python",
   "nbconvert_exporter": "python",
   "pygments_lexer": "ipython3",
   "version": "3.11.13"
  }
 },
 "nbformat": 4,
 "nbformat_minor": 5
}
